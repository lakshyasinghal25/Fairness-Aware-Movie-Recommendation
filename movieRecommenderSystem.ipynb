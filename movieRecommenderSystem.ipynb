{
  "cells": [
    {
      "cell_type": "markdown",
      "metadata": {
        "id": "view-in-github",
        "colab_type": "text"
      },
      "source": [
        "<a href=\"https://colab.research.google.com/github/lakshyasinghal25/Fairness-Aware-Movie-Recommendation/blob/master/movieRecommenderSystem.ipynb\" target=\"_parent\"><img src=\"https://colab.research.google.com/assets/colab-badge.svg\" alt=\"Open In Colab\"/></a>"
      ]
    },
    {
      "cell_type": "code",
      "execution_count": 82,
      "id": "57d5b9de-0f37-416a-b8ff-2f1010c5e20c",
      "metadata": {
        "id": "57d5b9de-0f37-416a-b8ff-2f1010c5e20c"
      },
      "outputs": [],
      "source": [
        "import pandas as pd\n",
        "import numpy as np\n",
        "\n",
        "import tensorflow as tf\n",
        "from tensorflow import keras\n",
        "from keras import layers\n",
        "\n",
        "import matplotlib.pyplot as plt\n",
        "from sklearn.metrics import r2_score\n",
        "\n",
        "from collections import defaultdict"
      ]
    },
    {
      "cell_type": "code",
      "source": [
        "tf.__version__"
      ],
      "metadata": {
        "colab": {
          "base_uri": "https://localhost:8080/",
          "height": 35
        },
        "id": "hWIhTjnGvP94",
        "outputId": "3cbb4f39-34ea-4eeb-c3f1-bfecc3fa1187"
      },
      "id": "hWIhTjnGvP94",
      "execution_count": 81,
      "outputs": [
        {
          "output_type": "execute_result",
          "data": {
            "text/plain": [
              "'2.18.0'"
            ],
            "application/vnd.google.colaboratory.intrinsic+json": {
              "type": "string"
            }
          },
          "metadata": {},
          "execution_count": 81
        }
      ]
    },
    {
      "cell_type": "code",
      "source": [
        "ratings_file = \"u.data\"\n",
        "ratings_cols = ['user_id', 'movie_id', 'rating', 'unix_timestamp']\n",
        "ratings = pd.read_csv(ratings_file, sep='\\t', names=ratings_cols)\n",
        "ratings = ratings.drop('unix_timestamp', axis=1)\n",
        "# ratings"
      ],
      "metadata": {
        "id": "USX7aobjbtgu"
      },
      "id": "USX7aobjbtgu",
      "execution_count": 4,
      "outputs": []
    },
    {
      "cell_type": "code",
      "source": [
        "user_attributes_file = \"u.user\"\n",
        "user_attributes_cols = ['user_id', 'age', 'gender', 'occupation', 'zip_code']\n",
        "users = pd.read_csv(user_attributes_file, sep='|', names=user_attributes_cols)\n",
        "# users"
      ],
      "metadata": {
        "id": "So-JcVkgdB58"
      },
      "id": "So-JcVkgdB58",
      "execution_count": 5,
      "outputs": []
    },
    {
      "cell_type": "code",
      "source": [
        "ratings['count'] = ratings.groupby('user_id')['movie_id'].transform('count')\n",
        "ratings = ratings[ratings['count'] >= 300]\n",
        "users['gender'] = users['gender'].map(lambda x: 1 if x == 'F' else 0)\n",
        "users = users.drop(['age', 'occupation', 'zip_code'], axis=1)\n",
        "\n",
        "# len(ratings['user_id'].unique())"
      ],
      "metadata": {
        "id": "7mjvOF2rdk-2"
      },
      "execution_count": 6,
      "outputs": [],
      "id": "7mjvOF2rdk-2"
    },
    {
      "cell_type": "code",
      "source": [
        "df = pd.merge(ratings, users, on='user_id', how='left')\n",
        "df.head()\n",
        "# len(df['user_id'].unique())"
      ],
      "metadata": {
        "colab": {
          "base_uri": "https://localhost:8080/",
          "height": 206
        },
        "id": "eIszyF6pfadi",
        "outputId": "8fe9e167-7bb4-4bb9-b355-1db32cd91e69"
      },
      "id": "eIszyF6pfadi",
      "execution_count": 7,
      "outputs": [
        {
          "output_type": "execute_result",
          "data": {
            "text/plain": [
              "   user_id  movie_id  rating  count  gender\n",
              "0      303       785       3    484       0\n",
              "1      194       274       2    305       0\n",
              "2      234      1184       2    480       0\n",
              "3      308         1       4    397       0\n",
              "4      181      1081       1    435       0"
            ],
            "text/html": [
              "\n",
              "  <div id=\"df-c0d8f50a-0950-4413-b676-cda06e5c1fe4\" class=\"colab-df-container\">\n",
              "    <div>\n",
              "<style scoped>\n",
              "    .dataframe tbody tr th:only-of-type {\n",
              "        vertical-align: middle;\n",
              "    }\n",
              "\n",
              "    .dataframe tbody tr th {\n",
              "        vertical-align: top;\n",
              "    }\n",
              "\n",
              "    .dataframe thead th {\n",
              "        text-align: right;\n",
              "    }\n",
              "</style>\n",
              "<table border=\"1\" class=\"dataframe\">\n",
              "  <thead>\n",
              "    <tr style=\"text-align: right;\">\n",
              "      <th></th>\n",
              "      <th>user_id</th>\n",
              "      <th>movie_id</th>\n",
              "      <th>rating</th>\n",
              "      <th>count</th>\n",
              "      <th>gender</th>\n",
              "    </tr>\n",
              "  </thead>\n",
              "  <tbody>\n",
              "    <tr>\n",
              "      <th>0</th>\n",
              "      <td>303</td>\n",
              "      <td>785</td>\n",
              "      <td>3</td>\n",
              "      <td>484</td>\n",
              "      <td>0</td>\n",
              "    </tr>\n",
              "    <tr>\n",
              "      <th>1</th>\n",
              "      <td>194</td>\n",
              "      <td>274</td>\n",
              "      <td>2</td>\n",
              "      <td>305</td>\n",
              "      <td>0</td>\n",
              "    </tr>\n",
              "    <tr>\n",
              "      <th>2</th>\n",
              "      <td>234</td>\n",
              "      <td>1184</td>\n",
              "      <td>2</td>\n",
              "      <td>480</td>\n",
              "      <td>0</td>\n",
              "    </tr>\n",
              "    <tr>\n",
              "      <th>3</th>\n",
              "      <td>308</td>\n",
              "      <td>1</td>\n",
              "      <td>4</td>\n",
              "      <td>397</td>\n",
              "      <td>0</td>\n",
              "    </tr>\n",
              "    <tr>\n",
              "      <th>4</th>\n",
              "      <td>181</td>\n",
              "      <td>1081</td>\n",
              "      <td>1</td>\n",
              "      <td>435</td>\n",
              "      <td>0</td>\n",
              "    </tr>\n",
              "  </tbody>\n",
              "</table>\n",
              "</div>\n",
              "    <div class=\"colab-df-buttons\">\n",
              "\n",
              "  <div class=\"colab-df-container\">\n",
              "    <button class=\"colab-df-convert\" onclick=\"convertToInteractive('df-c0d8f50a-0950-4413-b676-cda06e5c1fe4')\"\n",
              "            title=\"Convert this dataframe to an interactive table.\"\n",
              "            style=\"display:none;\">\n",
              "\n",
              "  <svg xmlns=\"http://www.w3.org/2000/svg\" height=\"24px\" viewBox=\"0 -960 960 960\">\n",
              "    <path d=\"M120-120v-720h720v720H120Zm60-500h600v-160H180v160Zm220 220h160v-160H400v160Zm0 220h160v-160H400v160ZM180-400h160v-160H180v160Zm440 0h160v-160H620v160ZM180-180h160v-160H180v160Zm440 0h160v-160H620v160Z\"/>\n",
              "  </svg>\n",
              "    </button>\n",
              "\n",
              "  <style>\n",
              "    .colab-df-container {\n",
              "      display:flex;\n",
              "      gap: 12px;\n",
              "    }\n",
              "\n",
              "    .colab-df-convert {\n",
              "      background-color: #E8F0FE;\n",
              "      border: none;\n",
              "      border-radius: 50%;\n",
              "      cursor: pointer;\n",
              "      display: none;\n",
              "      fill: #1967D2;\n",
              "      height: 32px;\n",
              "      padding: 0 0 0 0;\n",
              "      width: 32px;\n",
              "    }\n",
              "\n",
              "    .colab-df-convert:hover {\n",
              "      background-color: #E2EBFA;\n",
              "      box-shadow: 0px 1px 2px rgba(60, 64, 67, 0.3), 0px 1px 3px 1px rgba(60, 64, 67, 0.15);\n",
              "      fill: #174EA6;\n",
              "    }\n",
              "\n",
              "    .colab-df-buttons div {\n",
              "      margin-bottom: 4px;\n",
              "    }\n",
              "\n",
              "    [theme=dark] .colab-df-convert {\n",
              "      background-color: #3B4455;\n",
              "      fill: #D2E3FC;\n",
              "    }\n",
              "\n",
              "    [theme=dark] .colab-df-convert:hover {\n",
              "      background-color: #434B5C;\n",
              "      box-shadow: 0px 1px 3px 1px rgba(0, 0, 0, 0.15);\n",
              "      filter: drop-shadow(0px 1px 2px rgba(0, 0, 0, 0.3));\n",
              "      fill: #FFFFFF;\n",
              "    }\n",
              "  </style>\n",
              "\n",
              "    <script>\n",
              "      const buttonEl =\n",
              "        document.querySelector('#df-c0d8f50a-0950-4413-b676-cda06e5c1fe4 button.colab-df-convert');\n",
              "      buttonEl.style.display =\n",
              "        google.colab.kernel.accessAllowed ? 'block' : 'none';\n",
              "\n",
              "      async function convertToInteractive(key) {\n",
              "        const element = document.querySelector('#df-c0d8f50a-0950-4413-b676-cda06e5c1fe4');\n",
              "        const dataTable =\n",
              "          await google.colab.kernel.invokeFunction('convertToInteractive',\n",
              "                                                    [key], {});\n",
              "        if (!dataTable) return;\n",
              "\n",
              "        const docLinkHtml = 'Like what you see? Visit the ' +\n",
              "          '<a target=\"_blank\" href=https://colab.research.google.com/notebooks/data_table.ipynb>data table notebook</a>'\n",
              "          + ' to learn more about interactive tables.';\n",
              "        element.innerHTML = '';\n",
              "        dataTable['output_type'] = 'display_data';\n",
              "        await google.colab.output.renderOutput(dataTable, element);\n",
              "        const docLink = document.createElement('div');\n",
              "        docLink.innerHTML = docLinkHtml;\n",
              "        element.appendChild(docLink);\n",
              "      }\n",
              "    </script>\n",
              "  </div>\n",
              "\n",
              "\n",
              "    <div id=\"df-70ec8e7e-55ae-489d-9fd1-6cccb8a59948\">\n",
              "      <button class=\"colab-df-quickchart\" onclick=\"quickchart('df-70ec8e7e-55ae-489d-9fd1-6cccb8a59948')\"\n",
              "                title=\"Suggest charts\"\n",
              "                style=\"display:none;\">\n",
              "\n",
              "<svg xmlns=\"http://www.w3.org/2000/svg\" height=\"24px\"viewBox=\"0 0 24 24\"\n",
              "     width=\"24px\">\n",
              "    <g>\n",
              "        <path d=\"M19 3H5c-1.1 0-2 .9-2 2v14c0 1.1.9 2 2 2h14c1.1 0 2-.9 2-2V5c0-1.1-.9-2-2-2zM9 17H7v-7h2v7zm4 0h-2V7h2v10zm4 0h-2v-4h2v4z\"/>\n",
              "    </g>\n",
              "</svg>\n",
              "      </button>\n",
              "\n",
              "<style>\n",
              "  .colab-df-quickchart {\n",
              "      --bg-color: #E8F0FE;\n",
              "      --fill-color: #1967D2;\n",
              "      --hover-bg-color: #E2EBFA;\n",
              "      --hover-fill-color: #174EA6;\n",
              "      --disabled-fill-color: #AAA;\n",
              "      --disabled-bg-color: #DDD;\n",
              "  }\n",
              "\n",
              "  [theme=dark] .colab-df-quickchart {\n",
              "      --bg-color: #3B4455;\n",
              "      --fill-color: #D2E3FC;\n",
              "      --hover-bg-color: #434B5C;\n",
              "      --hover-fill-color: #FFFFFF;\n",
              "      --disabled-bg-color: #3B4455;\n",
              "      --disabled-fill-color: #666;\n",
              "  }\n",
              "\n",
              "  .colab-df-quickchart {\n",
              "    background-color: var(--bg-color);\n",
              "    border: none;\n",
              "    border-radius: 50%;\n",
              "    cursor: pointer;\n",
              "    display: none;\n",
              "    fill: var(--fill-color);\n",
              "    height: 32px;\n",
              "    padding: 0;\n",
              "    width: 32px;\n",
              "  }\n",
              "\n",
              "  .colab-df-quickchart:hover {\n",
              "    background-color: var(--hover-bg-color);\n",
              "    box-shadow: 0 1px 2px rgba(60, 64, 67, 0.3), 0 1px 3px 1px rgba(60, 64, 67, 0.15);\n",
              "    fill: var(--button-hover-fill-color);\n",
              "  }\n",
              "\n",
              "  .colab-df-quickchart-complete:disabled,\n",
              "  .colab-df-quickchart-complete:disabled:hover {\n",
              "    background-color: var(--disabled-bg-color);\n",
              "    fill: var(--disabled-fill-color);\n",
              "    box-shadow: none;\n",
              "  }\n",
              "\n",
              "  .colab-df-spinner {\n",
              "    border: 2px solid var(--fill-color);\n",
              "    border-color: transparent;\n",
              "    border-bottom-color: var(--fill-color);\n",
              "    animation:\n",
              "      spin 1s steps(1) infinite;\n",
              "  }\n",
              "\n",
              "  @keyframes spin {\n",
              "    0% {\n",
              "      border-color: transparent;\n",
              "      border-bottom-color: var(--fill-color);\n",
              "      border-left-color: var(--fill-color);\n",
              "    }\n",
              "    20% {\n",
              "      border-color: transparent;\n",
              "      border-left-color: var(--fill-color);\n",
              "      border-top-color: var(--fill-color);\n",
              "    }\n",
              "    30% {\n",
              "      border-color: transparent;\n",
              "      border-left-color: var(--fill-color);\n",
              "      border-top-color: var(--fill-color);\n",
              "      border-right-color: var(--fill-color);\n",
              "    }\n",
              "    40% {\n",
              "      border-color: transparent;\n",
              "      border-right-color: var(--fill-color);\n",
              "      border-top-color: var(--fill-color);\n",
              "    }\n",
              "    60% {\n",
              "      border-color: transparent;\n",
              "      border-right-color: var(--fill-color);\n",
              "    }\n",
              "    80% {\n",
              "      border-color: transparent;\n",
              "      border-right-color: var(--fill-color);\n",
              "      border-bottom-color: var(--fill-color);\n",
              "    }\n",
              "    90% {\n",
              "      border-color: transparent;\n",
              "      border-bottom-color: var(--fill-color);\n",
              "    }\n",
              "  }\n",
              "</style>\n",
              "\n",
              "      <script>\n",
              "        async function quickchart(key) {\n",
              "          const quickchartButtonEl =\n",
              "            document.querySelector('#' + key + ' button');\n",
              "          quickchartButtonEl.disabled = true;  // To prevent multiple clicks.\n",
              "          quickchartButtonEl.classList.add('colab-df-spinner');\n",
              "          try {\n",
              "            const charts = await google.colab.kernel.invokeFunction(\n",
              "                'suggestCharts', [key], {});\n",
              "          } catch (error) {\n",
              "            console.error('Error during call to suggestCharts:', error);\n",
              "          }\n",
              "          quickchartButtonEl.classList.remove('colab-df-spinner');\n",
              "          quickchartButtonEl.classList.add('colab-df-quickchart-complete');\n",
              "        }\n",
              "        (() => {\n",
              "          let quickchartButtonEl =\n",
              "            document.querySelector('#df-70ec8e7e-55ae-489d-9fd1-6cccb8a59948 button');\n",
              "          quickchartButtonEl.style.display =\n",
              "            google.colab.kernel.accessAllowed ? 'block' : 'none';\n",
              "        })();\n",
              "      </script>\n",
              "    </div>\n",
              "\n",
              "    </div>\n",
              "  </div>\n"
            ],
            "application/vnd.google.colaboratory.intrinsic+json": {
              "type": "dataframe",
              "summary": "{\n  \"name\": \"# len(df['user_id']\",\n  \"rows\": 5,\n  \"fields\": [\n    {\n      \"column\": \"user_id\",\n      \"properties\": {\n        \"dtype\": \"number\",\n        \"std\": 59,\n        \"min\": 181,\n        \"max\": 308,\n        \"num_unique_values\": 5,\n        \"samples\": [\n          194,\n          181,\n          234\n        ],\n        \"semantic_type\": \"\",\n        \"description\": \"\"\n      }\n    },\n    {\n      \"column\": \"movie_id\",\n      \"properties\": {\n        \"dtype\": \"number\",\n        \"std\": 512,\n        \"min\": 1,\n        \"max\": 1184,\n        \"num_unique_values\": 5,\n        \"samples\": [\n          274,\n          1081,\n          1184\n        ],\n        \"semantic_type\": \"\",\n        \"description\": \"\"\n      }\n    },\n    {\n      \"column\": \"rating\",\n      \"properties\": {\n        \"dtype\": \"number\",\n        \"std\": 1,\n        \"min\": 1,\n        \"max\": 4,\n        \"num_unique_values\": 4,\n        \"samples\": [\n          2,\n          1,\n          3\n        ],\n        \"semantic_type\": \"\",\n        \"description\": \"\"\n      }\n    },\n    {\n      \"column\": \"count\",\n      \"properties\": {\n        \"dtype\": \"number\",\n        \"std\": 73,\n        \"min\": 305,\n        \"max\": 484,\n        \"num_unique_values\": 5,\n        \"samples\": [\n          305,\n          435,\n          480\n        ],\n        \"semantic_type\": \"\",\n        \"description\": \"\"\n      }\n    },\n    {\n      \"column\": \"gender\",\n      \"properties\": {\n        \"dtype\": \"number\",\n        \"std\": 0,\n        \"min\": 0,\n        \"max\": 0,\n        \"num_unique_values\": 1,\n        \"samples\": [\n          0\n        ],\n        \"semantic_type\": \"\",\n        \"description\": \"\"\n      }\n    }\n  ]\n}"
            }
          },
          "metadata": {},
          "execution_count": 7
        }
      ]
    },
    {
      "cell_type": "code",
      "source": [
        "user_ids = df['user_id'].unique().tolist()\n",
        "movie_ids = df['movie_id'].unique().tolist()\n",
        "\n",
        "user2user_encoded = {x: i for i, x in enumerate(user_ids)}\n",
        "movie2movie_encoded = {x: i for i, x in enumerate(movie_ids)}\n",
        "user_encoded2user = {i: x for i, x in enumerate(user_ids)}\n",
        "movie_encoded2movie = {i: x for i, x in enumerate(movie_ids)}\n",
        "\n",
        "df['users'] = df['user_id'].map(user2user_encoded)\n",
        "df['movies'] = df['movie_id'].map(movie2movie_encoded)\n",
        "\n",
        "num_users = len(user_ids)\n",
        "num_movies = len(movie_ids)\n",
        "min_rating = min(df['rating'])\n",
        "max_rating = max(df['rating'])\n",
        "\n",
        "df['rating'] = df['rating'].values.astype(np.float32)\n",
        "\n",
        "print(f'Number of users: {num_users}')\n",
        "print(f'Number of movies: {num_movies}')\n",
        "print(f'Min rating: {min_rating}')\n",
        "print(f'Max rating: {max_rating}')\n",
        "print(df.head())"
      ],
      "metadata": {
        "colab": {
          "base_uri": "https://localhost:8080/"
        },
        "id": "LjDXS7LKjykR",
        "outputId": "a5d6908f-420a-444d-c8fa-f506e3faaa31"
      },
      "id": "LjDXS7LKjykR",
      "execution_count": 8,
      "outputs": [
        {
          "output_type": "stream",
          "name": "stdout",
          "text": [
            "Number of users: 54\n",
            "Number of movies: 1597\n",
            "Min rating: 1\n",
            "Max rating: 5\n",
            "   user_id  movie_id  rating  count  gender  users  movies\n",
            "0      303       785     3.0    484       0      0       0\n",
            "1      194       274     2.0    305       0      1       1\n",
            "2      234      1184     2.0    480       0      2       2\n",
            "3      308         1     4.0    397       0      3       3\n",
            "4      181      1081     1.0    435       0      4       4\n"
          ]
        }
      ]
    },
    {
      "cell_type": "code",
      "source": [
        "df = df.sample(frac=1, random_state=42)\n",
        "x = df[['users', 'movies']].values\n",
        "\n",
        "y_rating = df['rating'].map(lambda x: (x - min_rating) / (max_rating - min_rating)).values\n",
        "y_gender = df['gender'].values\n",
        "\n",
        "train_indices = int(0.9 * df.shape[0])\n",
        "\n",
        "x_train = x[:train_indices]\n",
        "x_val = x[train_indices:]\n",
        "\n",
        "y_train = [\n",
        "    y_rating[:train_indices],\n",
        "    y_gender[:train_indices],\n",
        "    y_gender[:train_indices],\n",
        "    y_gender[:train_indices],\n",
        "    y_gender[:train_indices],\n",
        "    np.zeros(train_indices),\n",
        "    np.zeros(train_indices)\n",
        "]\n",
        "\n",
        "y_val = [\n",
        "    y_rating[train_indices:],\n",
        "    y_gender[train_indices:],\n",
        "    y_gender[train_indices:],\n",
        "    y_gender[train_indices:],\n",
        "    y_gender[train_indices:],\n",
        "    np.zeros(df.shape[0] - train_indices),\n",
        "    np.zeros(df.shape[0] - train_indices)\n",
        "]\n",
        "\n",
        "print('x_train : ',x_train.shape)\n",
        "y_train[0][0:10]"
      ],
      "metadata": {
        "colab": {
          "base_uri": "https://localhost:8080/"
        },
        "id": "9t_CQ6HVLAPl",
        "outputId": "d7bcfdf6-bb42-442d-bfc7-1a3d225ea1ad"
      },
      "id": "9t_CQ6HVLAPl",
      "execution_count": 9,
      "outputs": [
        {
          "output_type": "stream",
          "name": "stdout",
          "text": [
            "x_train :  (18944, 2)\n"
          ]
        },
        {
          "output_type": "execute_result",
          "data": {
            "text/plain": [
              "array([1.  , 0.5 , 0.5 , 1.  , 0.5 , 0.75, 0.25, 0.5 , 0.75, 1.  ])"
            ]
          },
          "metadata": {},
          "execution_count": 9
        }
      ]
    },
    {
      "cell_type": "markdown",
      "source": [
        "**Q. How are bias-free user embeddings learned?**\n",
        "\n",
        "Usually, the supervision of the main recommendation task may also encode the bias information about sensitive user attribute into the bias-free user embedding. Thus, in order to eliminate the bias information, we propose to apply adversarial learning to the bias-free user embedding.\n",
        "\n",
        "A straightforward way is to apply an *attribute discriminator* to the user embeddings learned by the user model to infer the sensitive user attribute, and penalize the model according to the *negative gradients* from the adversarial loss that indicates the informativeness of user embeddings for sensitive user attribute prediction.\n",
        "\n",
        "---\n",
        "**Q. What is the need for bias-aware user embeddings?**\n",
        "\n",
        "The user embeddings are also used to evaluate the relevance between the user and candidate movie for movie recommendation model training. Unfortunately, users’ sensitive attributes may be informative for the main movie recommendation task, and the bias information related to the sensitive user attribute may be encoded into the user embeddings, making it difficult to be removed by adversarial learning.\n",
        "\n",
        "As an alternative, we propose to decompose the user interest model into two components:\n",
        "\n",
        "- **Bias-aware component**: Aims to learn bias-aware user embeddings that capture the bias information on sensitive user attributes.\n",
        "- **Bias-free component**: Encodes only the attribute-independent information of user interest into bias-free user embeddings.\n",
        "\n",
        "To push the bias-aware user embedding to be more attribute-discriminative, we propose to apply a *sensitive attribute prediction task* to the bias-aware user embedding.\n",
        "\n",
        "\n",
        "---\n",
        "**Q. Why is orthogonal regulariation needed then?**\n",
        "\n",
        "Unfortunately, the bias-free user embedding may still contain some information related to the sensitive user attribute. This is because the discriminator usually cannot perfectly infer the sensitive user attribute, and there are shifts between the decision boundary of the discriminator and the real distribution of the sensitive user attribute. Since the bias-free user embedding generated by the user model only needs to cheat the discriminator, it does not necessarily fully remove the information of sensitive user attributes.\n",
        "\n",
        "To solve this problem, we propose an orthogonality regularization\n",
        "method to further purify the bias-free user embedding. Concretely, it regularizes the bias-aware user embedding and bias-free user embedding by encouraging them to be orthogonal to each other.\n",
        "\n"
      ],
      "metadata": {
        "id": "F3-woRIcAkq-"
      },
      "id": "F3-woRIcAkq-"
    },
    {
      "cell_type": "code",
      "source": [
        "EMBEDDING_SIZE = 50\n",
        "\n",
        "class RecSys(keras.Model):\n",
        "    def __init__(self, num_users, num_movies, **kwargs):\n",
        "        super().__init__(**kwargs)\n",
        "\n",
        "        self.num_users = num_users\n",
        "        self.num_movies = num_movies\n",
        "        self.embedding_size = EMBEDDING_SIZE\n",
        "\n",
        "        # 4 user embeddings\n",
        "        self.user_embedding_biased_mlp = layers.Embedding(\n",
        "            num_users,\n",
        "            EMBEDDING_SIZE,\n",
        "            embeddings_initializer = 'he_normal',\n",
        "            embeddings_regularizer = keras.regularizers.l2(1e-6)\n",
        "        )\n",
        "        self.user_embedding_biased_gmf = layers.Embedding(\n",
        "            num_users,\n",
        "            EMBEDDING_SIZE,\n",
        "            embeddings_initializer = 'he_normal',\n",
        "            embeddings_regularizer = keras.regularizers.l2(1e-6)\n",
        "        )\n",
        "        self.user_embedding_fair_mlp = layers.Embedding(\n",
        "            num_users,\n",
        "            EMBEDDING_SIZE,\n",
        "            embeddings_initializer = 'he_normal',\n",
        "            embeddings_regularizer = keras.regularizers.l2(1e-6)\n",
        "        )\n",
        "        self.user_embedding_fair_gmf = layers.Embedding(\n",
        "            num_users,\n",
        "            EMBEDDING_SIZE,\n",
        "            embeddings_initializer = 'he_normal',\n",
        "            embeddings_regularizer = keras.regularizers.l2(1e-6)\n",
        "        )\n",
        "\n",
        "        # 2 movie embeddings\n",
        "        self.movie_embedding_mlp = layers.Embedding(\n",
        "            num_movies,\n",
        "            EMBEDDING_SIZE,\n",
        "            embeddings_initializer = 'he_normal',\n",
        "            embeddings_regularizer = keras.regularizers.l2(1e-6)\n",
        "        )\n",
        "        self.movie_embedding_gmf = layers.Embedding(\n",
        "            num_movies,\n",
        "            EMBEDDING_SIZE,\n",
        "            embeddings_initializer = 'he_normal',\n",
        "            embeddings_regularizer = keras.regularizers.l2(1e-6)\n",
        "        )\n",
        "\n",
        "        # mlp for combining user embeddings for mlp and movie embeddings for mlp\n",
        "        self.mlp = keras.models.Sequential([\n",
        "            layers.Dense(4*EMBEDDING_SIZE, activation='relu'),\n",
        "            layers.Dense(2*EMBEDDING_SIZE, activation='relu'),\n",
        "            layers.Dense(EMBEDDING_SIZE),\n",
        "        ])\n",
        "\n",
        "        # NN(no hidden layers) to combine mlp and gmf outputs\n",
        "        self.neuCF = layers.Dense(1)\n",
        "\n",
        "        # 2 NNs(no hdden layers) for attribute predictors\n",
        "        self.att_predictor_mlp = layers.Dense(1)\n",
        "        self.att_predictor_gmf = layers.Dense(1)\n",
        "\n",
        "        # 2 NNs(no hdden layers) for attribute discriminator\n",
        "        self.att_discriminator_mlp = layers.Dense(1)\n",
        "        self.att_discriminator_gmf = layers.Dense(1)\n",
        "\n",
        "    # Function called for training NN\n",
        "    def call(self, inputs):\n",
        "        # getting the user embeddings\n",
        "        u_b_mlp = self.user_embedding_biased_mlp(inputs[:, 0])\n",
        "        u_b_gmf = self.user_embedding_biased_gmf(inputs[:, 0])\n",
        "        u_f_mlp = self.user_embedding_fair_mlp(inputs[:, 0])\n",
        "        u_f_gmf = self.user_embedding_fair_gmf(inputs[:, 0])\n",
        "\n",
        "        # getting movie embeddings\n",
        "        m_mlp = self.movie_embedding_mlp(inputs[:, 1])\n",
        "        m_gmf = self.movie_embedding_gmf(inputs[:, 1])\n",
        "\n",
        "        # combining fair and biased user embeddings\n",
        "        u_mlp = tf.add(u_f_mlp, u_b_mlp)\n",
        "        u_gmf = tf.add(u_f_gmf, u_b_gmf)\n",
        "\n",
        "        # final gmf and mlp layers\n",
        "        gmf_layer = tf.multiply(u_gmf, m_gmf)\n",
        "        mlp_layer = self.mlp(tf.concat([u_mlp, m_mlp], axis=1))\n",
        "\n",
        "        # final predicted rating\n",
        "        predicted_rating = self.neuCF(tf.concat([gmf_layer, mlp_layer], axis=1))\n",
        "\n",
        "        # attribute predictor\n",
        "        g_b_mlp = self.att_predictor_mlp(u_b_mlp)\n",
        "        g_b_gmf = self.att_predictor_gmf(u_b_gmf)\n",
        "\n",
        "        # attribute discriminator\n",
        "        g_f_mlp = self.att_discriminator_mlp(u_f_mlp)\n",
        "        g_f_gmf = self.att_discriminator_gmf(u_f_gmf)\n",
        "\n",
        "        # computing orthogonal loss which must be minimised\n",
        "        ortho_loss_mlp = layers.Dot(axes=1, normalize=True)([u_b_mlp, u_f_mlp])\n",
        "        ortho_loss_gmf = layers.Dot(axes=1, normalize=True)([u_b_gmf, u_f_gmf])\n",
        "\n",
        "        # the sigmoid activation forces the rating to between 0 and 1\n",
        "        return [predicted_rating, tf.nn.sigmoid(g_b_mlp), tf.nn.sigmoid(g_b_gmf), tf.nn.sigmoid(g_f_mlp), tf.nn.sigmoid(g_f_gmf), ortho_loss_mlp, ortho_loss_gmf]\n",
        "\n",
        "def neg_binary_crossentropy(y_true, y_pred):\n",
        "    return -1.0 * keras.losses.binary_crossentropy(y_true, y_pred)\n",
        "\n",
        "def root_mean_squared_error(y_true, y_pred):\n",
        "    return keras.backend.sqrt(keras.backend.mean(keras.backend.square(y_pred - y_true)))\n",
        "\n",
        "model = RecSys(num_users, num_movies)\n",
        "\n",
        "model.compile(\n",
        "    loss=[root_mean_squared_error, tf.keras.losses.BinaryCrossentropy(), tf.keras.losses.BinaryCrossentropy(), neg_binary_crossentropy, neg_binary_crossentropy, tf.keras.losses.MeanSquaredError(), tf.keras.losses.MeanSquaredError()],\n",
        "    loss_weights=[1,0.5,0.5,0.5,0.5,0.5,0],\n",
        "    optimizer=keras.optimizers.Adam(learning_rate=0.001),\n",
        ")\n",
        "\n",
        "# model.compile(\n",
        "#     loss={\n",
        "#         \"ratings_prediction_loss\" : root_mean_squared_error,\n",
        "#         \"l1\" : tf.keras.losses.BinaryCrossentropy(),\n",
        "#         \"l2\" : tf.keras.losses.BinaryCrossentropy(),\n",
        "#         \"l3\" : neg_binary_crossentropy,\n",
        "#         \"l4\" : neg_binary_crossentropy,\n",
        "#         \"l5\" : tf.keras.losses.MeanSquaredError(),\n",
        "#         \"l6\" : tf.keras.losses.MeanSquaredError()\n",
        "#     },\n",
        "#     loss_weights=[1,0.5,0.5,0.1,0.1,0.5,0.5],\n",
        "#     optimizer=keras.optimizers.Adam(learning_rate=0.001),\n",
        "# )"
      ],
      "metadata": {
        "id": "ZE6HrnppOGOE"
      },
      "id": "ZE6HrnppOGOE",
      "execution_count": 10,
      "outputs": []
    },
    {
      "cell_type": "code",
      "source": [
        "history = model.fit(\n",
        "    x=x_train,\n",
        "    y=y_train,\n",
        "    batch_size=64,\n",
        "    epochs=7,\n",
        "    verbose=1,\n",
        "    validation_data=(x_val, y_val),\n",
        ")"
      ],
      "metadata": {
        "colab": {
          "base_uri": "https://localhost:8080/"
        },
        "id": "v97KqYvzNwKz",
        "outputId": "b5d7cd38-1677-4a3e-b717-a658bbcc0ce8"
      },
      "id": "v97KqYvzNwKz",
      "execution_count": 11,
      "outputs": [
        {
          "output_type": "stream",
          "name": "stdout",
          "text": [
            "Epoch 1/7\n",
            "\u001b[1m296/296\u001b[0m \u001b[32m━━━━━━━━━━━━━━━━━━━━\u001b[0m\u001b[37m\u001b[0m \u001b[1m9s\u001b[0m 9ms/step - binary_crossentropy_loss: 0.4649 - loss: -0.6525 - mean_squared_error_loss: 0.0108 - neg_binary_crossentropy_loss: -1.5031 - root_mean_squared_error_loss: 0.2929 - val_binary_crossentropy_loss: 0.0500 - val_loss: -8.2602 - val_mean_squared_error_loss: 9.1542e-04 - val_neg_binary_crossentropy_loss: -9.2412 - val_root_mean_squared_error_loss: 0.2365\n",
            "Epoch 2/7\n",
            "\u001b[1m296/296\u001b[0m \u001b[32m━━━━━━━━━━━━━━━━━━━━\u001b[0m\u001b[37m\u001b[0m \u001b[1m4s\u001b[0m 6ms/step - binary_crossentropy_loss: 0.0326 - loss: -13.6780 - mean_squared_error_loss: 5.7199e-04 - neg_binary_crossentropy_loss: -14.7699 - root_mean_squared_error_loss: 0.2258 - val_binary_crossentropy_loss: 0.0095 - val_loss: -34.4449 - val_mean_squared_error_loss: 6.3197e-05 - val_neg_binary_crossentropy_loss: -35.7431 - val_root_mean_squared_error_loss: 0.2374\n",
            "Epoch 3/7\n",
            "\u001b[1m296/296\u001b[0m \u001b[32m━━━━━━━━━━━━━━━━━━━━\u001b[0m\u001b[37m\u001b[0m \u001b[1m3s\u001b[0m 6ms/step - binary_crossentropy_loss: 0.0076 - loss: -43.7680 - mean_squared_error_loss: 4.7199e-05 - neg_binary_crossentropy_loss: -45.1012 - root_mean_squared_error_loss: 0.2143 - val_binary_crossentropy_loss: 0.0037 - val_loss: -75.9222 - val_mean_squared_error_loss: 2.4446e-05 - val_neg_binary_crossentropy_loss: -77.3372 - val_root_mean_squared_error_loss: 0.2396\n",
            "Epoch 4/7\n",
            "\u001b[1m296/296\u001b[0m \u001b[32m━━━━━━━━━━━━━━━━━━━━\u001b[0m\u001b[37m\u001b[0m \u001b[1m2s\u001b[0m 6ms/step - binary_crossentropy_loss: 0.0032 - loss: -88.7634 - mean_squared_error_loss: 1.7538e-05 - neg_binary_crossentropy_loss: -90.1800 - root_mean_squared_error_loss: 0.2073 - val_binary_crossentropy_loss: 0.0019 - val_loss: -131.1649 - val_mean_squared_error_loss: 1.4315e-05 - val_neg_binary_crossentropy_loss: -132.6465 - val_root_mean_squared_error_loss: 0.2434\n",
            "Epoch 5/7\n",
            "\u001b[1m296/296\u001b[0m \u001b[32m━━━━━━━━━━━━━━━━━━━━\u001b[0m\u001b[37m\u001b[0m \u001b[1m2s\u001b[0m 6ms/step - binary_crossentropy_loss: 0.0017 - loss: -147.2142 - mean_squared_error_loss: 1.3034e-05 - neg_binary_crossentropy_loss: -148.6620 - root_mean_squared_error_loss: 0.2088 - val_binary_crossentropy_loss: 0.0011 - val_loss: -199.0968 - val_mean_squared_error_loss: 1.1289e-05 - val_neg_binary_crossentropy_loss: -200.6288 - val_root_mean_squared_error_loss: 0.2440\n",
            "Epoch 6/7\n",
            "\u001b[1m296/296\u001b[0m \u001b[32m━━━━━━━━━━━━━━━━━━━━\u001b[0m\u001b[37m\u001b[0m \u001b[1m3s\u001b[0m 9ms/step - binary_crossentropy_loss: 0.0010 - loss: -218.0478 - mean_squared_error_loss: 9.4030e-06 - neg_binary_crossentropy_loss: -219.5497 - root_mean_squared_error_loss: 0.2033 - val_binary_crossentropy_loss: 7.4243e-04 - val_loss: -278.6049 - val_mean_squared_error_loss: 6.6536e-06 - val_neg_binary_crossentropy_loss: -280.1951 - val_root_mean_squared_error_loss: 0.2505\n",
            "Epoch 7/7\n",
            "\u001b[1m296/296\u001b[0m \u001b[32m━━━━━━━━━━━━━━━━━━━━\u001b[0m\u001b[37m\u001b[0m \u001b[1m4s\u001b[0m 13ms/step - binary_crossentropy_loss: 6.8376e-04 - loss: -300.0991 - mean_squared_error_loss: 6.6329e-06 - neg_binary_crossentropy_loss: -301.6443 - root_mean_squared_error_loss: 0.1998 - val_binary_crossentropy_loss: 5.1303e-04 - val_loss: -368.8676 - val_mean_squared_error_loss: 4.9496e-06 - val_neg_binary_crossentropy_loss: -370.5113 - val_root_mean_squared_error_loss: 0.2480\n"
          ]
        }
      ]
    },
    {
      "cell_type": "code",
      "source": [
        "# for x, y in history.history.items():\n",
        "#     print(x, [round(x, 6) for x in y])"
      ],
      "metadata": {
        "colab": {
          "base_uri": "https://localhost:8080/"
        },
        "id": "g3zzrR1-Oh8O",
        "outputId": "91cde183-2a76-452d-cbbb-a75f2821530f"
      },
      "id": "g3zzrR1-Oh8O",
      "execution_count": 12,
      "outputs": [
        {
          "output_type": "stream",
          "name": "stdout",
          "text": [
            "binary_crossentropy_loss [0.281698, 0.022256, 0.006048, 0.002706, 0.001497, 0.00093, 0.000624]\n",
            "loss [-2.462884, -19.939154, -53.845757, -102.252708, -163.850357, -237.580795, -322.456146]\n",
            "mean_squared_error_loss [0.006008, 0.000329, 3.7e-05, 1.6e-05, 1.3e-05, 8e-06, 6e-06]\n",
            "neg_binary_crossentropy_loss [-3.279149, -21.104788, -55.195305, -103.67926, -165.329727, -239.105621, -324.031403]\n",
            "root_mean_squared_error_loss [0.261174, 0.229223, 0.219315, 0.213036, 0.210313, 0.206048, 0.203289]\n",
            "val_binary_crossentropy_loss [0.050031, 0.009542, 0.003713, 0.001911, 0.001139, 0.000742, 0.000513]\n",
            "val_loss [-8.260236, -34.44487, -75.922211, -131.164932, -199.096802, -278.604919, -368.867615]\n",
            "val_mean_squared_error_loss [0.000915, 6.3e-05, 2.4e-05, 1.4e-05, 1.1e-05, 7e-06, 5e-06]\n",
            "val_neg_binary_crossentropy_loss [-9.241161, -35.743103, -77.33725, -132.646469, -200.628845, -280.195099, -370.511322]\n",
            "val_root_mean_squared_error_loss [0.236461, 0.23739, 0.239611, 0.243359, 0.243961, 0.250485, 0.248002]\n"
          ]
        }
      ]
    },
    {
      "cell_type": "code",
      "source": [
        "model.evaluate(x_val, y_val)"
      ],
      "metadata": {
        "colab": {
          "base_uri": "https://localhost:8080/"
        },
        "id": "osrIAJW9Oknq",
        "outputId": "2ab3cae0-ee96-409e-b6a3-639116762d5d"
      },
      "id": "osrIAJW9Oknq",
      "execution_count": 13,
      "outputs": [
        {
          "output_type": "stream",
          "name": "stdout",
          "text": [
            "\u001b[1m66/66\u001b[0m \u001b[32m━━━━━━━━━━━━━━━━━━━━\u001b[0m\u001b[37m\u001b[0m \u001b[1m0s\u001b[0m 3ms/step - binary_crossentropy_loss: 5.1185e-04 - loss: -368.9507 - mean_squared_error_loss: 4.8449e-06 - neg_binary_crossentropy_loss: -370.5387 - root_mean_squared_error_loss: 0.2413\n"
          ]
        },
        {
          "output_type": "execute_result",
          "data": {
            "text/plain": [
              "[-368.86865234375,\n",
              " 0.24695292115211487,\n",
              " 0.0005130692734383047,\n",
              " 0.0005130692734383047,\n",
              " -370.50787353515625,\n",
              " -370.50787353515625,\n",
              " 4.952264134772122e-06,\n",
              " 4.952264134772122e-06]"
            ]
          },
          "metadata": {},
          "execution_count": 13
        }
      ]
    },
    {
      "cell_type": "code",
      "source": [
        "def plot_metrics(history, key, title, ylabel):\n",
        "    plt.figure(figsize=(8, 5))\n",
        "    plt.plot(history.history[key], marker='o', label='Train')\n",
        "    plt.plot(history.history[\"val_\" + key], marker='x', label='Validation')\n",
        "    plt.title(title)\n",
        "    plt.xlabel(\"Epoch\")\n",
        "    plt.ylabel(ylabel)\n",
        "    plt.legend()\n",
        "    plt.grid(True)\n",
        "    plt.tight_layout()\n",
        "    plt.show()\n",
        "\n",
        "# Call the plot function for each metric\n",
        "plot_metrics(history, \"binary_crossentropy_loss\", \"Binary Crossentropy Loss(Predictor)\", \"Loss\")\n",
        "plot_metrics(history, \"loss\", \"Total Loss\", \"Loss\")\n",
        "plot_metrics(history, \"mean_squared_error_loss\", \"MSE (Orthogonality)\", \"Loss\")\n",
        "plot_metrics(history, \"neg_binary_crossentropy_loss\", \"Negative Binary Crossentropy Loss(Discriminator)\", \"Loss\")\n",
        "plot_metrics(history, \"root_mean_squared_error_loss\", \"Root Mean Squared Error (RMSE)\", \"RMSE\")"
      ],
      "metadata": {
        "colab": {
          "base_uri": "https://localhost:8080/",
          "height": 1000
        },
        "id": "paMOvkd7UvDa",
        "outputId": "57f98fde-26f2-4414-eb25-d595f40e6cb6"
      },
      "id": "paMOvkd7UvDa",
      "execution_count": 14,
      "outputs": [
        {
          "output_type": "display_data",
          "data": {
            "text/plain": [
              "<Figure size 800x500 with 1 Axes>"
            ],
            "image/png": "[encoded data removed]"
          },
          "metadata": {}
        },
        {
          "output_type": "display_data",
          "data": {
            "text/plain": [
              "<Figure size 800x500 with 1 Axes>"
            ],
            "image/png": "[encoded data removed]"
          },
          "metadata": {}
        },
        {
          "output_type": "display_data",
          "data": {
            "text/plain": [
              "<Figure size 800x500 with 1 Axes>"
            ],
            "image/png": "[encoded data removed]"
          },
          "metadata": {}
        },
        {
          "output_type": "display_data",
          "data": {
            "text/plain": [
              "<Figure size 800x500 with 1 Axes>"
            ],
            "image/png": "[encoded data removed]"
          },
          "metadata": {}
        },
        {
          "output_type": "display_data",
          "data": {
            "text/plain": [
              "<Figure size 800x500 with 1 Axes>"
            ],
            "image/png": "[encoded data removed]"
          },
          "metadata": {}
        }
      ]
    },
    {
      "cell_type": "code",
      "source": [
        "# UNIFIED USER EMBEDDINGS\n",
        "\n",
        "ub_mlp_w = np.array(model.user_embedding_biased_mlp.get_weights())\n",
        "ub_gmf_w = np.array(model.user_embedding_biased_gmf.get_weights())\n",
        "# print(np.shape(model.user_embedding_biased_mlp.get_weights()))\n",
        "uf_mlp_w = np.array(model.user_embedding_fair_mlp.get_weights())\n",
        "uf_gmf_w = np.array(model.user_embedding_fair_gmf.get_weights())\n",
        "\n",
        "unified_user_embedding = layers.Embedding(\n",
        "            num_users,\n",
        "            EMBEDDING_SIZE,\n",
        "            embeddings_initializer=\"he_normal\",\n",
        "            embeddings_regularizer=keras.regularizers.l2(1e-6),\n",
        "        )\n",
        "\n",
        "output = unified_user_embedding(x_train[:,0])\n",
        "# print(np.shape(unified_user_embedding.get_weights()))\n",
        "w_mlp = np.add(ub_mlp_w, uf_mlp_w)\n",
        "w_gmf = np.add(ub_gmf_w, uf_gmf_w)\n",
        "w = np.add(w_mlp,w_gmf)\n",
        "unified_user_embedding.set_weights(w)\n",
        "\n",
        "# print(w.shape)"
      ],
      "metadata": {
        "id": "kd3e6Ckt-JLD"
      },
      "id": "kd3e6Ckt-JLD",
      "execution_count": 15,
      "outputs": []
    },
    {
      "cell_type": "code",
      "source": [
        "# TESTING\n",
        "\n",
        "movies_embedding = model.movie_embedding_mlp\n",
        "uv = model.user_embedding_biased_mlp(x_train[:,0])\n",
        "mv = movies_embedding(x_train[:,1])\n",
        "scores = tf.reshape(tf.reduce_sum( tf.multiply( uv, mv ), 1, keepdims=True ),[-1])\n",
        "\n",
        "mse = tf.keras.losses.MeanSquaredError()\n",
        "mse(y_train[0], scores).numpy()"
      ],
      "metadata": {
        "colab": {
          "base_uri": "https://localhost:8080/"
        },
        "id": "5ytHWk2H_yR-",
        "outputId": "4e86a68a-a68f-48d2-d4da-8b369a45000e"
      },
      "id": "5ytHWk2H_yR-",
      "execution_count": 16,
      "outputs": [
        {
          "output_type": "execute_result",
          "data": {
            "text/plain": [
              "np.float32(0.42465782)"
            ]
          },
          "metadata": {},
          "execution_count": 16
        }
      ]
    },
    {
      "cell_type": "code",
      "source": [
        "movie_df = pd.read_csv('u.item', sep='|', header=None, encoding='latin-1')\n",
        "movie_df = movie_df[[0, 1]]\n",
        "movie_df.columns = ['movie_id', 'title']\n",
        "movie_df.head()"
      ],
      "metadata": {
        "colab": {
          "base_uri": "https://localhost:8080/",
          "height": 206
        },
        "id": "NsMnyFc0F7so",
        "outputId": "cce4da92-c863-41b3-9c36-da8fed601331"
      },
      "id": "NsMnyFc0F7so",
      "execution_count": 17,
      "outputs": [
        {
          "output_type": "execute_result",
          "data": {
            "text/plain": [
              "   movie_id              title\n",
              "0         1   Toy Story (1995)\n",
              "1         2   GoldenEye (1995)\n",
              "2         3  Four Rooms (1995)\n",
              "3         4  Get Shorty (1995)\n",
              "4         5     Copycat (1995)"
            ],
            "text/html": [
              "\n",
              "  <div id=\"df-d1d97b43-32c6-4a8a-8f5b-16ae2a0e3955\" class=\"colab-df-container\">\n",
              "    <div>\n",
              "<style scoped>\n",
              "    .dataframe tbody tr th:only-of-type {\n",
              "        vertical-align: middle;\n",
              "    }\n",
              "\n",
              "    .dataframe tbody tr th {\n",
              "        vertical-align: top;\n",
              "    }\n",
              "\n",
              "    .dataframe thead th {\n",
              "        text-align: right;\n",
              "    }\n",
              "</style>\n",
              "<table border=\"1\" class=\"dataframe\">\n",
              "  <thead>\n",
              "    <tr style=\"text-align: right;\">\n",
              "      <th></th>\n",
              "      <th>movie_id</th>\n",
              "      <th>title</th>\n",
              "    </tr>\n",
              "  </thead>\n",
              "  <tbody>\n",
              "    <tr>\n",
              "      <th>0</th>\n",
              "      <td>1</td>\n",
              "      <td>Toy Story (1995)</td>\n",
              "    </tr>\n",
              "    <tr>\n",
              "      <th>1</th>\n",
              "      <td>2</td>\n",
              "      <td>GoldenEye (1995)</td>\n",
              "    </tr>\n",
              "    <tr>\n",
              "      <th>2</th>\n",
              "      <td>3</td>\n",
              "      <td>Four Rooms (1995)</td>\n",
              "    </tr>\n",
              "    <tr>\n",
              "      <th>3</th>\n",
              "      <td>4</td>\n",
              "      <td>Get Shorty (1995)</td>\n",
              "    </tr>\n",
              "    <tr>\n",
              "      <th>4</th>\n",
              "      <td>5</td>\n",
              "      <td>Copycat (1995)</td>\n",
              "    </tr>\n",
              "  </tbody>\n",
              "</table>\n",
              "</div>\n",
              "    <div class=\"colab-df-buttons\">\n",
              "\n",
              "  <div class=\"colab-df-container\">\n",
              "    <button class=\"colab-df-convert\" onclick=\"convertToInteractive('df-d1d97b43-32c6-4a8a-8f5b-16ae2a0e3955')\"\n",
              "            title=\"Convert this dataframe to an interactive table.\"\n",
              "            style=\"display:none;\">\n",
              "\n",
              "  <svg xmlns=\"http://www.w3.org/2000/svg\" height=\"24px\" viewBox=\"0 -960 960 960\">\n",
              "    <path d=\"M120-120v-720h720v720H120Zm60-500h600v-160H180v160Zm220 220h160v-160H400v160Zm0 220h160v-160H400v160ZM180-400h160v-160H180v160Zm440 0h160v-160H620v160ZM180-180h160v-160H180v160Zm440 0h160v-160H620v160Z\"/>\n",
              "  </svg>\n",
              "    </button>\n",
              "\n",
              "  <style>\n",
              "    .colab-df-container {\n",
              "      display:flex;\n",
              "      gap: 12px;\n",
              "    }\n",
              "\n",
              "    .colab-df-convert {\n",
              "      background-color: #E8F0FE;\n",
              "      border: none;\n",
              "      border-radius: 50%;\n",
              "      cursor: pointer;\n",
              "      display: none;\n",
              "      fill: #1967D2;\n",
              "      height: 32px;\n",
              "      padding: 0 0 0 0;\n",
              "      width: 32px;\n",
              "    }\n",
              "\n",
              "    .colab-df-convert:hover {\n",
              "      background-color: #E2EBFA;\n",
              "      box-shadow: 0px 1px 2px rgba(60, 64, 67, 0.3), 0px 1px 3px 1px rgba(60, 64, 67, 0.15);\n",
              "      fill: #174EA6;\n",
              "    }\n",
              "\n",
              "    .colab-df-buttons div {\n",
              "      margin-bottom: 4px;\n",
              "    }\n",
              "\n",
              "    [theme=dark] .colab-df-convert {\n",
              "      background-color: #3B4455;\n",
              "      fill: #D2E3FC;\n",
              "    }\n",
              "\n",
              "    [theme=dark] .colab-df-convert:hover {\n",
              "      background-color: #434B5C;\n",
              "      box-shadow: 0px 1px 3px 1px rgba(0, 0, 0, 0.15);\n",
              "      filter: drop-shadow(0px 1px 2px rgba(0, 0, 0, 0.3));\n",
              "      fill: #FFFFFF;\n",
              "    }\n",
              "  </style>\n",
              "\n",
              "    <script>\n",
              "      const buttonEl =\n",
              "        document.querySelector('#df-d1d97b43-32c6-4a8a-8f5b-16ae2a0e3955 button.colab-df-convert');\n",
              "      buttonEl.style.display =\n",
              "        google.colab.kernel.accessAllowed ? 'block' : 'none';\n",
              "\n",
              "      async function convertToInteractive(key) {\n",
              "        const element = document.querySelector('#df-d1d97b43-32c6-4a8a-8f5b-16ae2a0e3955');\n",
              "        const dataTable =\n",
              "          await google.colab.kernel.invokeFunction('convertToInteractive',\n",
              "                                                    [key], {});\n",
              "        if (!dataTable) return;\n",
              "\n",
              "        const docLinkHtml = 'Like what you see? Visit the ' +\n",
              "          '<a target=\"_blank\" href=https://colab.research.google.com/notebooks/data_table.ipynb>data table notebook</a>'\n",
              "          + ' to learn more about interactive tables.';\n",
              "        element.innerHTML = '';\n",
              "        dataTable['output_type'] = 'display_data';\n",
              "        await google.colab.output.renderOutput(dataTable, element);\n",
              "        const docLink = document.createElement('div');\n",
              "        docLink.innerHTML = docLinkHtml;\n",
              "        element.appendChild(docLink);\n",
              "      }\n",
              "    </script>\n",
              "  </div>\n",
              "\n",
              "\n",
              "    <div id=\"df-b48f8c8b-94b1-4718-af35-87ed3bc24d67\">\n",
              "      <button class=\"colab-df-quickchart\" onclick=\"quickchart('df-b48f8c8b-94b1-4718-af35-87ed3bc24d67')\"\n",
              "                title=\"Suggest charts\"\n",
              "                style=\"display:none;\">\n",
              "\n",
              "<svg xmlns=\"http://www.w3.org/2000/svg\" height=\"24px\"viewBox=\"0 0 24 24\"\n",
              "     width=\"24px\">\n",
              "    <g>\n",
              "        <path d=\"M19 3H5c-1.1 0-2 .9-2 2v14c0 1.1.9 2 2 2h14c1.1 0 2-.9 2-2V5c0-1.1-.9-2-2-2zM9 17H7v-7h2v7zm4 0h-2V7h2v10zm4 0h-2v-4h2v4z\"/>\n",
              "    </g>\n",
              "</svg>\n",
              "      </button>\n",
              "\n",
              "<style>\n",
              "  .colab-df-quickchart {\n",
              "      --bg-color: #E8F0FE;\n",
              "      --fill-color: #1967D2;\n",
              "      --hover-bg-color: #E2EBFA;\n",
              "      --hover-fill-color: #174EA6;\n",
              "      --disabled-fill-color: #AAA;\n",
              "      --disabled-bg-color: #DDD;\n",
              "  }\n",
              "\n",
              "  [theme=dark] .colab-df-quickchart {\n",
              "      --bg-color: #3B4455;\n",
              "      --fill-color: #D2E3FC;\n",
              "      --hover-bg-color: #434B5C;\n",
              "      --hover-fill-color: #FFFFFF;\n",
              "      --disabled-bg-color: #3B4455;\n",
              "      --disabled-fill-color: #666;\n",
              "  }\n",
              "\n",
              "  .colab-df-quickchart {\n",
              "    background-color: var(--bg-color);\n",
              "    border: none;\n",
              "    border-radius: 50%;\n",
              "    cursor: pointer;\n",
              "    display: none;\n",
              "    fill: var(--fill-color);\n",
              "    height: 32px;\n",
              "    padding: 0;\n",
              "    width: 32px;\n",
              "  }\n",
              "\n",
              "  .colab-df-quickchart:hover {\n",
              "    background-color: var(--hover-bg-color);\n",
              "    box-shadow: 0 1px 2px rgba(60, 64, 67, 0.3), 0 1px 3px 1px rgba(60, 64, 67, 0.15);\n",
              "    fill: var(--button-hover-fill-color);\n",
              "  }\n",
              "\n",
              "  .colab-df-quickchart-complete:disabled,\n",
              "  .colab-df-quickchart-complete:disabled:hover {\n",
              "    background-color: var(--disabled-bg-color);\n",
              "    fill: var(--disabled-fill-color);\n",
              "    box-shadow: none;\n",
              "  }\n",
              "\n",
              "  .colab-df-spinner {\n",
              "    border: 2px solid var(--fill-color);\n",
              "    border-color: transparent;\n",
              "    border-bottom-color: var(--fill-color);\n",
              "    animation:\n",
              "      spin 1s steps(1) infinite;\n",
              "  }\n",
              "\n",
              "  @keyframes spin {\n",
              "    0% {\n",
              "      border-color: transparent;\n",
              "      border-bottom-color: var(--fill-color);\n",
              "      border-left-color: var(--fill-color);\n",
              "    }\n",
              "    20% {\n",
              "      border-color: transparent;\n",
              "      border-left-color: var(--fill-color);\n",
              "      border-top-color: var(--fill-color);\n",
              "    }\n",
              "    30% {\n",
              "      border-color: transparent;\n",
              "      border-left-color: var(--fill-color);\n",
              "      border-top-color: var(--fill-color);\n",
              "      border-right-color: var(--fill-color);\n",
              "    }\n",
              "    40% {\n",
              "      border-color: transparent;\n",
              "      border-right-color: var(--fill-color);\n",
              "      border-top-color: var(--fill-color);\n",
              "    }\n",
              "    60% {\n",
              "      border-color: transparent;\n",
              "      border-right-color: var(--fill-color);\n",
              "    }\n",
              "    80% {\n",
              "      border-color: transparent;\n",
              "      border-right-color: var(--fill-color);\n",
              "      border-bottom-color: var(--fill-color);\n",
              "    }\n",
              "    90% {\n",
              "      border-color: transparent;\n",
              "      border-bottom-color: var(--fill-color);\n",
              "    }\n",
              "  }\n",
              "</style>\n",
              "\n",
              "      <script>\n",
              "        async function quickchart(key) {\n",
              "          const quickchartButtonEl =\n",
              "            document.querySelector('#' + key + ' button');\n",
              "          quickchartButtonEl.disabled = true;  // To prevent multiple clicks.\n",
              "          quickchartButtonEl.classList.add('colab-df-spinner');\n",
              "          try {\n",
              "            const charts = await google.colab.kernel.invokeFunction(\n",
              "                'suggestCharts', [key], {});\n",
              "          } catch (error) {\n",
              "            console.error('Error during call to suggestCharts:', error);\n",
              "          }\n",
              "          quickchartButtonEl.classList.remove('colab-df-spinner');\n",
              "          quickchartButtonEl.classList.add('colab-df-quickchart-complete');\n",
              "        }\n",
              "        (() => {\n",
              "          let quickchartButtonEl =\n",
              "            document.querySelector('#df-b48f8c8b-94b1-4718-af35-87ed3bc24d67 button');\n",
              "          quickchartButtonEl.style.display =\n",
              "            google.colab.kernel.accessAllowed ? 'block' : 'none';\n",
              "        })();\n",
              "      </script>\n",
              "    </div>\n",
              "\n",
              "    </div>\n",
              "  </div>\n"
            ],
            "application/vnd.google.colaboratory.intrinsic+json": {
              "type": "dataframe",
              "variable_name": "movie_df",
              "summary": "{\n  \"name\": \"movie_df\",\n  \"rows\": 1682,\n  \"fields\": [\n    {\n      \"column\": \"movie_id\",\n      \"properties\": {\n        \"dtype\": \"number\",\n        \"std\": 485,\n        \"min\": 1,\n        \"max\": 1682,\n        \"num_unique_values\": 1682,\n        \"samples\": [\n          1394,\n          744,\n          1606\n        ],\n        \"semantic_type\": \"\",\n        \"description\": \"\"\n      }\n    },\n    {\n      \"column\": \"title\",\n      \"properties\": {\n        \"dtype\": \"string\",\n        \"num_unique_values\": 1664,\n        \"samples\": [\n          \"Madame Butterfly (1995)\",\n          \"Wrong Trousers, The (1993)\",\n          \"Breaking the Waves (1996)\"\n        ],\n        \"semantic_type\": \"\",\n        \"description\": \"\"\n      }\n    }\n  ]\n}"
            }
          },
          "metadata": {},
          "execution_count": 17
        }
      ]
    },
    {
      "cell_type": "code",
      "source": [
        "# TOP 10 FAIRNESS AWARE MOVIE RECOMMENDATIONS FOR A RANDOM USER USING BIAS-FREE EMBEDDINGS\n",
        "\n",
        "user_id = df.user_id.sample(1).iloc[0] # Keep this in another cell else random user will change each time the cell runs\n",
        "\n",
        "movies_watched_by_user = df[df.user_id == user_id]\n",
        "movies_not_watched = movie_df[~movie_df['movie_id'].isin(movies_watched_by_user.movie_id.values)]['movie_id']\n",
        "movies_not_watched = list(\n",
        "    set(movies_not_watched).intersection(set(movie2movie_encoded.keys()))\n",
        ")\n",
        "movies_not_watched = [[movie2movie_encoded.get(x)] for x in movies_not_watched]\n",
        "\n",
        "user_encoder = user2user_encoded.get(user_id)\n",
        "user_movie_array = np.hstack(\n",
        "    ([[user_encoder]] * len(movies_not_watched), movies_not_watched)\n",
        ")\n",
        "\n",
        "# print('len : ',len(user_movie_array))\n",
        "uv = unified_user_embedding(user_movie_array[:,0])\n",
        "mv = movies_embedding(user_movie_array[:,1])\n",
        "ratings = tf.reshape(tf.reduce_sum( tf.multiply( uv, mv ), 1, keepdims=True ),[-1]).numpy()\n",
        "# print(ratings)\n",
        "\n",
        "top_ratings_indices = ratings.argsort()[-10:][::-1]\n",
        "recommended_movie_ids = [\n",
        "    movie_encoded2movie.get(movies_not_watched[x][0]) for x in top_ratings_indices\n",
        "]\n",
        "\n",
        "print(\"Showing recommendations for user: {}\".format(user_id))\n",
        "print(\"====\" * 9)\n",
        "print(\"Movies with high ratings from user\")\n",
        "print(\"----\" * 8)\n",
        "top_movies_user = (\n",
        "    movies_watched_by_user.sort_values(by=\"rating\", ascending=False)\n",
        "    .head(5)\n",
        "    .movie_id.values\n",
        ")\n",
        "movie_df_rows = movie_df[movie_df[\"movie_id\"].isin(top_movies_user)]\n",
        "for row in movie_df_rows.itertuples():\n",
        "    print(row.title)\n",
        "\n",
        "print(\"----\" * 8)\n",
        "print(\"Top 10 movie recommendations\")\n",
        "print(\"----\" * 8)\n",
        "recommended_movies = movie_df[movie_df[\"movie_id\"].isin(recommended_movie_ids)]\n",
        "for row in recommended_movies.itertuples():\n",
        "    print(row.title)"
      ],
      "metadata": {
        "colab": {
          "base_uri": "https://localhost:8080/"
        },
        "id": "wuFGbBvnJKYm",
        "outputId": "b7ac9b72-b2bc-4a1b-9717-643cd7d020a6"
      },
      "id": "wuFGbBvnJKYm",
      "execution_count": 18,
      "outputs": [
        {
          "output_type": "stream",
          "name": "stdout",
          "text": [
            "Showing recommendations for user: 234\n",
            "====================================\n",
            "Movies with high ratings from user\n",
            "--------------------------------\n",
            "Manon of the Spring (Manon des sources) (1986)\n",
            "Sting, The (1973)\n",
            "Lawrence of Arabia (1962)\n",
            "Third Man, The (1949)\n",
            "Garden of Finzi-Contini, The (Giardino dei Finzi-Contini, Il) (1970)\n",
            "--------------------------------\n",
            "Top 10 movie recommendations\n",
            "--------------------------------\n",
            "Pillow Book, The (1995)\n",
            "Kull the Conqueror (1997)\n",
            "First Wives Club, The (1996)\n",
            "Wyatt Earp (1994)\n",
            "Terminal Velocity (1994)\n",
            "Jackal, The (1997)\n",
            "Daylight (1996)\n",
            "Mixed Nuts (1994)\n",
            "Before and After (1996)\n",
            "I'll Do Anything (1994)\n"
          ]
        }
      ]
    },
    {
      "cell_type": "code",
      "source": [
        "# Evaluation\n",
        "\n",
        "uv = unified_user_embedding(x_val[:,0])\n",
        "mv = movies_embedding(x_val[:,1])\n",
        "ratings = tf.reshape(tf.reduce_sum( tf.multiply( uv, mv ), 1, keepdims=True ),[-1]).numpy()\n",
        "ratings = tf.nn.sigmoid(ratings)\n",
        "# print(len(y_val[0]), len(ratings))\n",
        "# print(y_val[0])\n",
        "# print(ratings)\n",
        "\n",
        "rmse = tf.keras.metrics.RootMeanSquaredError()\n",
        "rmse.update_state(y_val[0],ratings)\n",
        "print('RMSE : ',rmse.result().numpy())\n",
        "r2 = r2_score(y_val[0], np.array(ratings)) # Tells whether Model explains the variance in the dataset (1 -> perfect, 0 -> same as predicting mean for all, negative -> worse)\n",
        "print('Coefficient of Determination : ',r2)"
      ],
      "metadata": {
        "colab": {
          "base_uri": "https://localhost:8080/"
        },
        "id": "nT7XaiqrVMph",
        "outputId": "7a3d32c2-42b9-4d2b-ea75-2fc1867c9594"
      },
      "id": "nT7XaiqrVMph",
      "execution_count": 19,
      "outputs": [
        {
          "output_type": "stream",
          "name": "stdout",
          "text": [
            "RMSE :  0.38746342\n",
            "Coefficient of Determination :  -0.8355266685589122\n"
          ]
        }
      ]
    },
    {
      "cell_type": "code",
      "source": [
        "# FAIRNESS EVALUATION\n",
        "\n",
        "discriminator = keras.Sequential([\n",
        "    layers.Input(shape=(EMBEDDING_SIZE,)),\n",
        "    layers.Dense(64, activation='relu'),\n",
        "    layers.Dense(1, activation='sigmoid')\n",
        "])\n",
        "\n",
        "discriminator.compile(loss='binary_crossentropy', optimizer='adam', metrics=['accuracy'])\n",
        "\n",
        "gender_labels = []\n",
        "for key in user_encoded2user:\n",
        "    gender_labels.append(df.loc[df[\"users\"] == key, \"gender\"].values[0])\n",
        "gender_labels = np.array(gender_labels).astype(int)\n",
        "\n",
        "# len(gender_labels)\n",
        "biased_embeddings = np.array(ub_mlp_w[0])\n",
        "fair_embeddings = np.array(uf_mlp_w[0])\n",
        "# print(fair_embeddings.shape, len(gender_labels))\n",
        "history = discriminator.fit(biased_embeddings, gender_labels, epochs=10, batch_size=32)"
      ],
      "metadata": {
        "id": "he1LULFVahRI",
        "colab": {
          "base_uri": "https://localhost:8080/"
        },
        "outputId": "d5e47c90-8d51-4796-c0d3-330f949447a1"
      },
      "id": "he1LULFVahRI",
      "execution_count": 61,
      "outputs": [
        {
          "output_type": "stream",
          "name": "stdout",
          "text": [
            "Epoch 1/10\n",
            "\u001b[1m2/2\u001b[0m \u001b[32m━━━━━━━━━━━━━━━━━━━━\u001b[0m\u001b[37m\u001b[0m \u001b[1m1s\u001b[0m 26ms/step - accuracy: 0.5864 - loss: 0.6632 \n",
            "Epoch 2/10\n",
            "\u001b[1m2/2\u001b[0m \u001b[32m━━━━━━━━━━━━━━━━━━━━\u001b[0m\u001b[37m\u001b[0m \u001b[1m0s\u001b[0m 28ms/step - accuracy: 0.8492 - loss: 0.6015\n",
            "Epoch 3/10\n",
            "\u001b[1m2/2\u001b[0m \u001b[32m━━━━━━━━━━━━━━━━━━━━\u001b[0m\u001b[37m\u001b[0m \u001b[1m0s\u001b[0m 27ms/step - accuracy: 0.9402 - loss: 0.5534\n",
            "Epoch 4/10\n",
            "\u001b[1m2/2\u001b[0m \u001b[32m━━━━━━━━━━━━━━━━━━━━\u001b[0m\u001b[37m\u001b[0m \u001b[1m0s\u001b[0m 28ms/step - accuracy: 0.9545 - loss: 0.5071\n",
            "Epoch 5/10\n",
            "\u001b[1m2/2\u001b[0m \u001b[32m━━━━━━━━━━━━━━━━━━━━\u001b[0m\u001b[37m\u001b[0m \u001b[1m0s\u001b[0m 31ms/step - accuracy: 1.0000 - loss: 0.4648\n",
            "Epoch 6/10\n",
            "\u001b[1m2/2\u001b[0m \u001b[32m━━━━━━━━━━━━━━━━━━━━\u001b[0m\u001b[37m\u001b[0m \u001b[1m0s\u001b[0m 27ms/step - accuracy: 1.0000 - loss: 0.4226\n",
            "Epoch 7/10\n",
            "\u001b[1m2/2\u001b[0m \u001b[32m━━━━━━━━━━━━━━━━━━━━\u001b[0m\u001b[37m\u001b[0m \u001b[1m0s\u001b[0m 26ms/step - accuracy: 1.0000 - loss: 0.3841\n",
            "Epoch 8/10\n",
            "\u001b[1m2/2\u001b[0m \u001b[32m━━━━━━━━━━━━━━━━━━━━\u001b[0m\u001b[37m\u001b[0m \u001b[1m0s\u001b[0m 28ms/step - accuracy: 1.0000 - loss: 0.3479\n",
            "Epoch 9/10\n",
            "\u001b[1m2/2\u001b[0m \u001b[32m━━━━━━━━━━━━━━━━━━━━\u001b[0m\u001b[37m\u001b[0m \u001b[1m0s\u001b[0m 27ms/step - accuracy: 1.0000 - loss: 0.3100\n",
            "Epoch 10/10\n",
            "\u001b[1m2/2\u001b[0m \u001b[32m━━━━━━━━━━━━━━━━━━━━\u001b[0m\u001b[37m\u001b[0m \u001b[1m0s\u001b[0m 52ms/step - accuracy: 1.0000 - loss: 0.2812\n"
          ]
        }
      ]
    },
    {
      "cell_type": "code",
      "source": [
        "gender_predictions = discriminator.predict(fair_embeddings)\n",
        "score = 0\n",
        "for x in gender_predictions:\n",
        "    score += abs(x-0.5)\n",
        "\n",
        "score /= len(gender_predictions)\n",
        "print(score)"
      ],
      "metadata": {
        "colab": {
          "base_uri": "https://localhost:8080/"
        },
        "id": "9LRgz1p3IwzT",
        "outputId": "dbd30673-4d81-4871-c972-4f5a948049f5"
      },
      "id": "9LRgz1p3IwzT",
      "execution_count": 66,
      "outputs": [
        {
          "output_type": "stream",
          "name": "stdout",
          "text": [
            "\u001b[1m2/2\u001b[0m \u001b[32m━━━━━━━━━━━━━━━━━━━━\u001b[0m\u001b[37m\u001b[0m \u001b[1m0s\u001b[0m 21ms/step\n",
            "[0.15081911]\n"
          ]
        }
      ]
    },
    {
      "cell_type": "code",
      "source": [
        "yr = model.predict(x_val)[0]\n",
        "yr.shape"
      ],
      "metadata": {
        "colab": {
          "base_uri": "https://localhost:8080/"
        },
        "id": "NzeF-YCXUVDE",
        "outputId": "f363bd94-532a-41d0-9aaa-1a1f5bed018a"
      },
      "id": "NzeF-YCXUVDE",
      "execution_count": 78,
      "outputs": [
        {
          "output_type": "stream",
          "name": "stdout",
          "text": [
            "\u001b[1m66/66\u001b[0m \u001b[32m━━━━━━━━━━━━━━━━━━━━\u001b[0m\u001b[37m\u001b[0m \u001b[1m0s\u001b[0m 2ms/step\n"
          ]
        },
        {
          "output_type": "execute_result",
          "data": {
            "text/plain": [
              "(2105, 1)"
            ]
          },
          "metadata": {},
          "execution_count": 78
        }
      ]
    },
    {
      "cell_type": "code",
      "source": [
        "e_g_y_j_all = defaultdict(list)\n",
        "e_neg_g_y_j_all = defaultdict(list)\n",
        "e_g_r_j_all = defaultdict(list)\n",
        "e_neg_g_r_j_all = defaultdict(list)\n",
        "\n",
        "# print(\"---\",np.count_nonzero(y_val[1]==1))\n",
        "# print(x_val.shape)\n",
        "for i in range(len(x_val)):\n",
        "    if(y_val[1][i] == 1): #female\n",
        "        e_g_y_j_all[x_val[i][1]].append(yr[i][0])\n",
        "        e_g_r_j_all[x_val[i][1]].append(y_val[0][i])\n",
        "    if(y_val[1][i] == 0): #male\n",
        "        e_neg_g_y_j_all[x_val[i][1]].append(yr[i][0])\n",
        "        e_neg_g_r_j_all[x_val[i][1]].append(y_val[0][i])"
      ],
      "metadata": {
        "id": "ccLfKJk1e6fM"
      },
      "id": "ccLfKJk1e6fM",
      "execution_count": 96,
      "outputs": []
    },
    {
      "cell_type": "code",
      "source": [
        "e_g_y_j = {}\n",
        "e_neg_g_y_j = {}\n",
        "e_g_r_j = {}\n",
        "e_neg_g_r_j = {}\n",
        "for k in e_g_y_j_all:\n",
        "  e_g_y_j[k] = np.nanmean(e_g_y_j_all[k])\n",
        "for k in e_g_r_j_all:\n",
        "  e_g_r_j[k] = np.nanmean(e_g_r_j_all[k])\n",
        "for k in e_neg_g_y_j_all:\n",
        "  e_neg_g_y_j[k] = np.nanmean(e_neg_g_y_j_all[k])\n",
        "for k in e_neg_g_r_j_all:\n",
        "  e_neg_g_r_j[k] = np.nanmean(e_neg_g_r_j_all[k])\n",
        "# print(e_g_y_j)"
      ],
      "metadata": {
        "colab": {
          "base_uri": "https://localhost:8080/"
        },
        "id": "-L4YgkeyfjlY",
        "outputId": "bfd8f05a-9eeb-4c4f-e344-41cc2caf2aeb"
      },
      "id": "-L4YgkeyfjlY",
      "execution_count": 105,
      "outputs": [
        {
          "output_type": "stream",
          "name": "stdout",
          "text": [
            "{np.int64(621): np.float32(0.9250779), np.int64(1): np.float32(0.6014305), np.int64(775): np.float32(0.36351994), np.int64(793): np.float32(0.69094694), np.int64(314): np.float32(0.5172987), np.int64(174): np.float32(0.21363716), np.int64(6): np.float32(-0.016582482), np.int64(197): np.float32(0.84533334), np.int64(1406): np.float32(0.25681913), np.int64(1016): np.float32(0.4761835), np.int64(557): np.float32(0.8788709), np.int64(219): np.float32(0.09283528), np.int64(653): np.float32(0.6724158), np.int64(809): np.float32(1.0584705), np.int64(741): np.float32(0.62075484), np.int64(748): np.float32(0.82036024), np.int64(850): np.float32(0.580189), np.int64(319): np.float32(0.43136346), np.int64(539): np.float32(0.4714172), np.int64(1044): np.float32(0.74475986), np.int64(1564): np.float32(0.48881888), np.int64(532): np.float32(0.93561494), np.int64(481): np.float32(0.66900074), np.int64(698): np.float32(0.5829864), np.int64(253): np.float32(0.724688), np.int64(1418): np.float32(0.72708905), np.int64(743): np.float32(0.7944338), np.int64(553): np.float32(0.44769067), np.int64(1238): np.float32(0.5957719), np.int64(695): np.float32(0.7740633), np.int64(395): np.float32(0.81887966), np.int64(121): np.float32(0.2702207), np.int64(583): np.float32(0.70552653), np.int64(1200): np.float32(0.47612828), np.int64(495): np.float32(0.65146065), np.int64(401): np.float32(0.38917494), np.int64(273): np.float32(0.86224717), np.int64(400): np.float32(0.607464), np.int64(26): np.float32(0.8259788), np.int64(792): np.float32(0.6949724), np.int64(206): np.float32(0.87924397), np.int64(647): np.float32(0.360704), np.int64(1426): np.float32(0.4037082), np.int64(361): np.float32(0.7535502), np.int64(1516): np.float32(0.78309786), np.int64(1410): np.float32(0.18783769), np.int64(403): np.float32(0.47141653), np.int64(1464): np.float32(0.48881888), np.int64(523): np.float32(0.79155755), np.int64(1079): np.float32(0.52911735), np.int64(175): np.float32(0.71051997), np.int64(734): np.float32(0.82023674), np.int64(1360): np.float32(0.3206855), np.int64(33): np.float32(0.6219475), np.int64(476): np.float32(0.94659525), np.int64(1216): np.float32(0.73139906), np.int64(289): np.float32(0.39194828), np.int64(773): np.float32(0.3986374), np.int64(470): np.float32(0.71810716), np.int64(168): np.float32(0.6850447), np.int64(172): np.float32(0.76527643), np.int64(489): np.float32(0.6970707), np.int64(406): np.float32(0.98774606), np.int64(208): np.float32(0.80797863), np.int64(131): np.float32(0.7110524), np.int64(1318): np.float32(0.25681913), np.int64(118): np.float32(0.35695347), np.int64(931): np.float32(0.15936512), np.int64(71): np.float32(0.6021279), np.int64(443): np.float32(0.82573664), np.int64(293): np.float32(0.8135488), np.int64(778): np.float32(0.12741518), np.int64(16): np.float32(0.12310309), np.int64(950): np.float32(0.45096382), np.int64(759): np.float32(0.70554197), np.int64(680): np.float32(0.75110024), np.int64(249): np.float32(0.9874142), np.int64(960): np.float32(0.6079487), np.int64(693): np.float32(0.38664314), np.int64(356): np.float32(0.67354536), np.int64(181): np.float32(0.17320746), np.int64(1285): np.float32(0.911568), np.int64(341): np.float32(0.6656201), np.int64(511): np.float32(0.55647856), np.int64(24): np.float32(0.58331174), np.int64(833): np.float32(0.53981346), np.int64(1224): np.float32(0.25681913), np.int64(410): np.float32(0.51919484), np.int64(176): np.float32(0.7348301), np.int64(779): np.float32(0.4987674), np.int64(127): np.float32(0.82106495), np.int64(875): np.float32(0.36896423), np.int64(109): np.float32(0.89529705), np.int64(292): np.float32(0.5707494), np.int64(115): np.float32(0.49427277), np.int64(1401): np.float32(0.25681913), np.int64(518): np.float32(0.69249207), np.int64(911): np.float32(0.49085307), np.int64(353): np.float32(0.4701958), np.int64(648): np.float32(0.5948629), np.int64(772): np.float32(0.6155375), np.int64(225): np.float32(0.90831375), np.int64(936): np.float32(0.21478218), np.int64(851): np.float32(0.42790708), np.int64(354): np.float32(0.5177109), np.int64(846): np.float32(0.99775743), np.int64(799): np.float32(0.44610685), np.int64(1232): np.float32(0.98818976), np.int64(231): np.float32(0.92031866), np.int64(85): np.float32(0.68646055), np.int64(934): np.float32(0.47159004), np.int64(1194): np.float32(1.052624), np.int64(1383): np.float32(-0.39324725), np.int64(664): np.float32(0.40869278), np.int64(64): np.float32(0.5609), np.int64(687): np.float32(0.52577496), np.int64(110): np.float32(0.22298078), np.int64(562): np.float32(0.671702), np.int64(688): np.float32(0.76648194), np.int64(513): np.float32(0.34363323), np.int64(258): np.float32(0.7609919), np.int64(609): np.float32(0.7176537), np.int64(7): np.float32(0.44774014), np.int64(276): np.float32(0.587157), np.int64(598): np.float32(0.18687934), np.int64(35): np.float32(0.8585017), np.int64(147): np.float32(0.29886994), np.int64(732): np.float32(0.72802526), np.int64(1342): np.float32(0.3534574), np.int64(365): np.float32(0.7208123), np.int64(644): np.float32(0.85180795), np.int64(170): np.float32(0.76875734), np.int64(586): np.float32(0.8677311), np.int64(381): np.float32(0.8277414), np.int64(514): np.float32(0.9071332), np.int64(377): np.float32(0.79974186), np.int64(1056): np.float32(0.46617463), np.int64(1004): np.float32(0.81537825), np.int64(675): np.float32(0.52636224), np.int64(1411): np.float32(-0.11981272), np.int64(11): np.float32(0.74056065), np.int64(218): np.float32(0.64171493), np.int64(335): np.float32(0.3792884), np.int64(63): np.float32(0.71416545), np.int64(357): np.float32(0.6304078), np.int64(1013): np.float32(0.37018332), np.int64(294): np.float32(0.8210309), np.int64(438): np.float32(0.75625813), np.int64(967): np.float32(0.5590356), np.int64(708): np.float32(0.5947158), np.int64(714): np.float32(0.80542856), np.int64(61): np.float32(0.56256014), np.int64(540): np.float32(0.46741548), np.int64(797): np.float32(0.56202394), np.int64(577): np.float32(0.9140888), np.int64(973): np.float32(0.28220734), np.int64(113): np.float32(0.3360382), np.int64(191): np.float32(0.4843588), np.int64(1366): np.float32(0.7830977), np.int64(290): np.float32(0.5784124), np.int64(31): np.float32(0.73333806), np.int64(525): np.float32(0.75266904), np.int64(155): np.float32(0.8269972), np.int64(394): np.float32(0.3663457), np.int64(380): np.float32(0.21278197), np.int64(462): np.float32(0.8068829), np.int64(924): np.float32(0.69541246), np.int64(1527): np.float32(0.25681913), np.int64(359): np.float32(0.8529961), np.int64(674): np.float32(0.8130452), np.int64(537): np.float32(0.46353832), np.int64(501): np.float32(0.92476267), np.int64(106): np.float32(0.9202859), np.int64(112): np.float32(0.850781), np.int64(932): np.float32(0.7648785), np.int64(425): np.float32(0.872561), np.int64(159): np.float32(0.6383808), np.int64(902): np.float32(0.12428854), np.int64(407): np.float32(0.2723436), np.int64(512): np.float32(0.764717), np.int64(3): np.float32(0.8679752), np.int64(1582): np.float32(0.48881888), np.int64(66): np.float32(0.49074504), np.int64(692): np.float32(0.4852435), np.int64(1402): np.float32(0.57994914), np.int64(1198): np.float32(0.685019), np.int64(620): np.float32(0.6936555), np.int64(300): np.float32(0.45210946), np.int64(610): np.float32(0.57076865), np.int64(297): np.float32(0.5644481), np.int64(941): np.float32(0.895174), np.int64(703): np.float32(0.31334856), np.int64(498): np.float32(0.22668776), np.int64(141): np.float32(0.40548968), np.int64(201): np.float32(0.5494645), np.int64(17): np.float32(0.56638616), np.int64(1446): np.float32(0.49280497), np.int64(654): np.float32(0.9711292), np.int64(599): np.float32(0.66914326), np.int64(893): np.float32(0.15120743), np.int64(1352): np.float32(0.5556117), np.int64(53): np.float32(0.87538725), np.int64(379): np.float32(0.6950644), np.int64(608): np.float32(0.7068027), np.int64(1159): np.float32(0.60251576), np.int64(304): np.float32(0.6604116), np.int64(480): np.float32(0.3900213), np.int64(217): np.float32(0.42447588), np.int64(1364): np.float32(0.65340793), np.int64(473): np.float32(0.7714993), np.int64(10): np.float32(0.72783786), np.int64(956): np.float32(0.78331417), np.int64(336): np.float32(0.34648788), np.int64(182): np.float32(0.9204996), np.int64(1138): np.float32(0.6029607), np.int64(1331): np.float32(1.230724), np.int64(1018): np.float32(0.44017363), np.int64(459): np.float32(0.7801725), np.int64(190): np.float32(0.9575744), np.int64(1305): np.float32(0.6004655), np.int64(93): np.float32(0.5874974), np.int64(1291): np.float32(0.5653162), np.int64(128): np.float32(0.77941215), np.int64(257): np.float32(0.49967185), np.int64(555): np.float32(0.43367943), np.int64(503): np.float32(0.21193394), np.int64(301): np.float32(0.66797024), np.int64(216): np.float32(0.064920485), np.int64(54): np.float32(0.8194933), np.int64(989): np.float32(0.48357004), np.int64(171): np.float32(0.47376937), np.int64(1280): np.float32(0.23721564), np.int64(1379): np.float32(0.43430805), np.int64(426): np.float32(0.392793), np.int64(1007): np.float32(0.35492736), np.int64(142): np.float32(0.7453742), np.int64(887): np.float32(0.06301708), np.int64(238): np.float32(0.449445), np.int64(914): np.float32(0.42479146), np.int64(417): np.float32(0.009588502), np.int64(465): np.float32(0.9428696), np.int64(939): np.float32(0.31978786), np.int64(270): np.float32(0.5833305), np.int64(36): np.float32(0.34064236), np.int64(666): np.float32(0.91145366), np.int64(153): np.float32(0.87954104), np.int64(235): np.float32(0.18992442), np.int64(840): np.float32(0.39766395), np.int64(1361): np.float32(0.6447482), np.int64(308): np.float32(0.71737826), np.int64(843): np.float32(0.34130824), np.int64(611): np.float32(0.9150072), np.int64(719): np.float32(0.9440111), np.int64(178): np.float32(0.5335827), np.int64(737): np.float32(0.88980085), np.int64(926): np.float32(0.27375558), np.int64(568): np.float32(0.53844887), np.int64(22): np.float32(0.4706012), np.int64(362): np.float32(0.436292), np.int64(237): np.float32(0.6316499), np.int64(483): np.float32(0.633543), np.int64(8): np.float32(0.25555566), np.int64(1592): np.float32(0.48881888), np.int64(124): np.float32(0.40809104), np.int64(103): np.float32(0.50587124), np.int64(1451): np.float32(0.48881888), np.int64(604): np.float32(0.6234364), np.int64(228): np.float32(0.86633974), np.int64(533): np.float32(0.6570396), np.int64(1042): np.float32(0.8123887), np.int64(1474): np.float32(0.48881888), np.int64(471): np.float32(0.3855154), np.int64(619): np.float32(0.537473), np.int64(869): np.float32(0.052047793), np.int64(305): np.float32(0.277949), np.int64(496): np.float32(0.4760101), np.int64(1031): np.float32(0.6808495), np.int64(1415): np.float32(0.6336785), np.int64(74): np.float32(0.61812276), np.int64(700): np.float32(0.3684177), np.int64(179): np.float32(0.2794055), np.int64(524): np.float32(0.83408433), np.int64(13): np.float32(0.42328995), np.int64(821): np.float32(0.5633893), np.int64(616): np.float32(0.294734), np.int64(998): np.float32(-0.18338999), np.int64(439): np.float32(0.4515563), np.int64(888): np.float32(0.61270297), np.int64(788): np.float32(0.70306885), np.int64(706): np.float32(0.5902057), np.int64(374): np.float32(0.40001515), np.int64(177): np.float32(0.4024784), np.int64(234): np.float32(0.32421795), np.int64(412): np.float32(0.88096106), np.int64(829): np.float32(1.0937011), np.int64(1167): np.float32(0.4672476), np.int64(615): np.float32(0.7656403), np.int64(1345): np.float32(0.31058443), np.int64(452): np.float32(0.7321839), np.int64(861): np.float32(0.5239286), np.int64(814): np.float32(0.74393713), np.int64(312): np.float32(0.6687032), np.int64(1259): np.float32(0.0051789843), np.int64(1344): np.float32(0.25681913), np.int64(1109): np.float32(0.5350365), np.int64(558): np.float32(0.26381814), np.int64(970): np.float32(0.6300288), np.int64(1076): np.float32(0.81744814), np.int64(468): np.float32(0.5853779), np.int64(765): np.float32(0.29057267), np.int64(766): np.float32(0.87468916), np.int64(15): np.float32(0.6579107), np.int64(422): np.float32(0.65508705), np.int64(499): np.float32(0.63905346), np.int64(1136): np.float32(0.65959615), np.int64(713): np.float32(0.8258612), np.int64(650): np.float32(0.76803297), np.int64(84): np.float32(0.8025979), np.int64(547): np.float32(0.8625496), np.int64(376): np.float32(1.0461911), np.int64(448): np.float32(0.54652923), np.int64(1135): np.float32(0.037219215), np.int64(827): np.float32(0.4332323), np.int64(59): np.float32(0.6428857), np.int64(463): np.float32(0.26996952), np.int64(975): np.float32(0.66654617), np.int64(402): np.float32(0.6865735), np.int64(368): np.float32(0.7087233), np.int64(949): np.float32(-0.088326536), np.int64(1189): np.float32(0.33953133), np.int64(1257): np.float32(0.52390534), np.int64(1184): np.float32(-0.025816403), np.int64(260): np.float32(0.6162349), np.int64(413): np.float32(0.48351583), np.int64(32): np.float32(0.9854369), np.int64(135): np.float32(0.95226616), np.int64(889): np.float32(0.65897864), np.int64(120): np.float32(0.88135606), np.int64(1424): np.float32(0.35913706), np.int64(423): np.float32(0.64168084), np.int64(1122): np.float32(0.57345104), np.int64(80): np.float32(0.55645484), np.int64(757): np.float32(0.6346845)}\n"
          ]
        },
        {
          "output_type": "stream",
          "name": "stderr",
          "text": [
            "/tmp/ipython-input-105-3645565847.py:10: RuntimeWarning: Mean of empty slice\n",
            "  e_neg_g_y_j[k] = np.nanmean(e_neg_g_y_j_all[k])\n"
          ]
        }
      ]
    },
    {
      "cell_type": "code",
      "source": [
        "movies = set(x_val[:,1])\n",
        "l = len(movies)\n",
        "# print(l)\n",
        "\n",
        "def safe_val(d, key):\n",
        "    val = d.get(key, 0)\n",
        "    return 0 if val is None or np.isnan(val) else val\n",
        "\n",
        "val_score, abs_score, over_est, under_est = 0.0, 0.0, 0.0, 0.0\n",
        "\n",
        "for movie in movies:\n",
        "    eg_y = safe_val(e_g_y_j, movie)\n",
        "    eg_r = safe_val(e_g_r_j, movie)\n",
        "    eng_y = safe_val(e_neg_g_y_j, movie)\n",
        "    eng_r = safe_val(e_neg_g_r_j, movie)\n",
        "\n",
        "    val_score += np.abs((eg_y - eg_r) - (eng_y - eng_r))\n",
        "    abs_score += np.abs(np.abs(eg_y - eg_r) - np.abs(eng_y - eng_r))\n",
        "    over_est += np.abs(np.maximum(0, eg_y - eg_r) - np.maximum(0, eng_y - eng_r))\n",
        "    under_est += np.abs(np.maximum(0, eg_r - eg_y) - np.maximum(0, eng_r - eng_y))\n",
        "\n",
        "val_score /= l\n",
        "abs_score /= l\n",
        "over_est /= l\n",
        "under_est /= l\n",
        "\n",
        "print(val_score, abs_score, over_est, under_est)"
      ],
      "metadata": {
        "colab": {
          "base_uri": "https://localhost:8080/"
        },
        "id": "vDyAlRnJgxoz",
        "outputId": "0f46fb73-468f-4a1b-a9a9-129654404cfd"
      },
      "id": "vDyAlRnJgxoz",
      "execution_count": 104,
      "outputs": [
        {
          "output_type": "stream",
          "name": "stdout",
          "text": [
            "906\n",
            "0.2043735283792401 0.17302988302974903 0.10333245231617356 0.10104107606306655\n"
          ]
        }
      ]
    },
    {
      "cell_type": "code",
      "source": [],
      "metadata": {
        "id": "dgAoRJA6hMah"
      },
      "id": "dgAoRJA6hMah",
      "execution_count": null,
      "outputs": []
    }
  ],
  "metadata": {
    "kernelspec": {
      "display_name": "Python 3 (ipykernel)",
      "language": "python",
      "name": "python3"
    },
    "language_info": {
      "codemirror_mode": {
        "name": "ipython",
        "version": 3
      },
      "file_extension": ".py",
      "mimetype": "text/x-python",
      "name": "python",
      "nbconvert_exporter": "python",
      "pygments_lexer": "ipython3",
      "version": "3.12.3"
    },
    "colab": {
      "provenance": [],
      "include_colab_link": true
    }
  },
  "nbformat": 4,
  "nbformat_minor": 5
}
